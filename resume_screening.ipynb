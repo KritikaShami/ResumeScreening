{
  "nbformat": 4,
  "nbformat_minor": 0,
  "metadata": {
    "colab": {
      "name": "resume screening.ipynb",
      "provenance": []
    },
    "kernelspec": {
      "name": "python3",
      "display_name": "Python 3"
    },
    "accelerator": "GPU"
  },
  "cells": [
    {
      "cell_type": "code",
      "metadata": {
        "colab": {
          "base_uri": "https://localhost:8080/"
        },
        "id": "zDKtV0qOGI7x",
        "outputId": "07028541-d420-4386-9420-6bd5771d59ba"
      },
      "source": [
        "!pip install PyMuPDF"
      ],
      "execution_count": null,
      "outputs": [
        {
          "output_type": "stream",
          "text": [
            "Collecting PyMuPDF\n",
            "\u001b[?25l  Downloading https://files.pythonhosted.org/packages/68/40/a6c75add19eebdc0aa17e54d05d5a52554291e75c6291d5a6be9cbdd457e/PyMuPDF-1.18.10-cp37-cp37m-manylinux2010_x86_64.whl (6.4MB)\n",
            "\u001b[K     |████████████████████████████████| 6.4MB 5.7MB/s \n",
            "\u001b[?25hInstalling collected packages: PyMuPDF\n",
            "Successfully installed PyMuPDF-1.18.10\n"
          ],
          "name": "stdout"
        }
      ]
    },
    {
      "cell_type": "code",
      "metadata": {
        "id": "oA2S0uEtG5dN"
      },
      "source": [
        "import os"
      ],
      "execution_count": null,
      "outputs": []
    },
    {
      "cell_type": "code",
      "metadata": {
        "id": "gDYE6SPcZfa1"
      },
      "source": [
        "from os import listdir\n",
        "from os.path import isfile, join\n",
        "from io import StringIO"
      ],
      "execution_count": null,
      "outputs": []
    },
    {
      "cell_type": "code",
      "metadata": {
        "id": "HnMnchZDHH1n"
      },
      "source": [
        "import pandas as pd\n",
        "from collections import Counter\n",
        "import en_core_web_sm\n",
        "nlp = en_core_web_sm.load()\n",
        "from spacy.matcher import PhraseMatcher"
      ],
      "execution_count": null,
      "outputs": []
    },
    {
      "cell_type": "code",
      "metadata": {
        "id": "pZAR1hufHRHL"
      },
      "source": [
        "mypath='/res'\n",
        "onlyfiles = [os.path.join(mypath, f) for f in os.listdir(mypath) if os.path.isfile(os.path.join(mypath, f))]"
      ],
      "execution_count": null,
      "outputs": []
    },
    {
      "cell_type": "code",
      "metadata": {
        "id": "nGptORmR4xz9"
      },
      "source": [
        "import fitz  \n",
        "def pdfextract(file):\n",
        "    with fitz.open(file) as doc:\n",
        "      text = \"\"\n",
        "      for page in doc:\n",
        "          text += page.getText()\n",
        "    return text"
      ],
      "execution_count": null,
      "outputs": []
    },
    {
      "cell_type": "code",
      "metadata": {
        "id": "x1bqm9ZdIbnM"
      },
      "source": [
        "def create_profile(file):\n",
        "    text = pdfextract(file) \n",
        "    text = str(text)\n",
        "    text = text.replace(\"\\\\n\", \"\")\n",
        "    text = text.lower()\n",
        "    keyword_dict = pd.read_csv('/root/dictionary.csv',encoding='latin-1')\n",
        "    stats_words = [nlp(text) for text in keyword_dict['Statistics'].dropna(axis = 0)]\n",
        "    NLP_words = [nlp(text) for text in keyword_dict['NLP'].dropna(axis = 0)]\n",
        "    ML_words = [nlp(text) for text in keyword_dict['Machine Learning'].dropna(axis = 0)]\n",
        "    DL_words = [nlp(text) for text in keyword_dict['Deep Learning'].dropna(axis = 0)]\n",
        "    R_words = [nlp(text) for text in keyword_dict['R Language'].dropna(axis = 0)]\n",
        "    python_words = [nlp(text) for text in keyword_dict['Python Language'].dropna(axis = 0)]\n",
        "    Data_Engineering_words = [nlp(text) for text in keyword_dict['Data Engineering'].dropna(axis = 0)]\n",
        "    Programming_Language_words = [nlp(text) for text in keyword_dict['Programming Language'].dropna(axis = 0)]\n",
        "    \n",
        " \n",
        " \n",
        "    matcher = PhraseMatcher(nlp.vocab)\n",
        "    matcher.add('Stats', None, *stats_words)\n",
        "    matcher.add('NLP', None, *NLP_words)\n",
        "    matcher.add('ML', None, *ML_words)\n",
        "    matcher.add('DL', None, *DL_words)\n",
        "    matcher.add('R', None, *R_words)\n",
        "    matcher.add('Python', None, *python_words)\n",
        "    matcher.add('DE', None, *Data_Engineering_words)\n",
        "    matcher.add('PL',None, *Programming_Language_words)\n",
        "    doc = nlp(text)\n",
        "    \n",
        "    d = []  \n",
        "    matches = matcher(doc)\n",
        "    for match_id, start, end in matches:\n",
        "        rule_id = nlp.vocab.strings[match_id]  \n",
        "        span = doc[start : end] \n",
        "        d.append((rule_id, span.text))      \n",
        "    keywords = \"\\n\".join(f'{i[0]} {i[1]} ({j})' for i,j in Counter(d).items())\n",
        " \n",
        "    df = pd.read_csv(StringIO(keywords),names = ['Keywords_List'])\n",
        "    df1 = pd.DataFrame(df.Keywords_List.str.split(' ',1).tolist(),columns = ['Subject','Keyword'])\n",
        "    df2 = pd.DataFrame(df1.Keyword.str.split('(',1).tolist(),columns = ['Keyword', 'Count'])\n",
        "    df3 = pd.concat([df1['Subject'],df2['Keyword'], df2['Count']], axis =1) \n",
        "    df3['Count'] = df3['Count'].apply(lambda x: x.rstrip(\")\"))\n",
        "    \n",
        "    base = os.path.basename(file)\n",
        "    filename = os.path.splitext(base)[0]\n",
        "       \n",
        "    name = filename.split('_')\n",
        "    name2 = name[0]\n",
        "    name2 = name2.lower()\n",
        "   \n",
        "    name3 = pd.read_csv(StringIO(name2),names = ['Candidate Name'])\n",
        "    \n",
        "    dataf = pd.concat([name3['Candidate Name'], df3['Subject'], df3['Keyword'], df3['Count']], axis = 1)\n",
        "    dataf['Candidate Name'].fillna(dataf['Candidate Name'].iloc[0], inplace = True)\n",
        " \n",
        "    return(dataf)"
      ],
      "execution_count": null,
      "outputs": []
    },
    {
      "cell_type": "code",
      "metadata": {
        "colab": {
          "base_uri": "https://localhost:8080/",
          "height": 1000
        },
        "id": "z_pv9OZS4EPu",
        "outputId": "a547dcd9-773c-4dbe-d7e4-e1f6fab1cf29"
      },
      "source": [
        "final_database=pd.DataFrame()\n",
        "i = 0 \n",
        "while i < len(onlyfiles):\n",
        "    file = onlyfiles[i]\n",
        "    dat = create_profile(file)\n",
        "    final_database = final_database.append(dat)\n",
        "    i +=1\n",
        "    print(final_database)\n",
        "\n",
        "final_database2 = final_database['Keyword'].groupby([final_database['Candidate Name'], final_database['Subject']]).count().unstack()\n",
        "final_database2.reset_index(inplace = True)\n",
        "final_database2.fillna(0,inplace=True)\n",
        "new_data = final_database2.iloc[:,1:]\n",
        "new_data.index = final_database2['Candidate Name']\n",
        "\n",
        "import matplotlib.pyplot as plt\n",
        "plt.rcParams.update({'font.size': 10})\n",
        "ax = new_data.plot.barh(title=\"Resume keywords by category\", legend=False, figsize=(25,7), stacked=True)\n",
        "labels = []\n",
        "for j in new_data.columns:\n",
        "    for i in new_data.index:\n",
        "        label = str(j)+\": \" + str(new_data.loc[i][j])\n",
        "        labels.append(label)\n",
        "patches = ax.patches\n",
        "for label, rect in zip(labels, patches):\n",
        "    width = rect.get_width()\n",
        "    if width > 0:\n",
        "        x = rect.get_x()\n",
        "        y = rect.get_y()\n",
        "        height = rect.get_height()\n",
        "        ax.text(x + width/2., y + height/2., label, ha='center', va='center')\n",
        "plt.show()"
      ],
      "execution_count": null,
      "outputs": [
        {
          "output_type": "stream",
          "text": [
            "  Candidate Name Subject Keyword Count\n",
            "0          ritik     NaN     NaN   NaN\n",
            "  Candidate Name Subject Keyword Count\n",
            "0          ritik     NaN     NaN   NaN\n",
            "0    robertsmith      DE  scala      1\n",
            "1    robertsmith      DE    aws      1\n",
            "  Candidate Name Subject    Keyword Count\n",
            "0          ritik     NaN        NaN   NaN\n",
            "0    robertsmith      DE     scala      1\n",
            "1    robertsmith      DE       aws      1\n",
            "0         resume      DE       sql      3\n",
            "1         resume      DE     scala      2\n",
            "2         resume      DE    hadoop      1\n",
            "3         resume      DE      hive      1\n",
            "4         resume      DL     keras      1\n",
            "5         resume     NLP  word2vec      1\n",
            "6         resume     NLP       lda      1\n",
            "  Candidate Name Subject    Keyword Count\n",
            "0          ritik     NaN        NaN   NaN\n",
            "0    robertsmith      DE     scala      1\n",
            "1    robertsmith      DE       aws      1\n",
            "0         resume      DE       sql      3\n",
            "1         resume      DE     scala      2\n",
            "2         resume      DE    hadoop      1\n",
            "3         resume      DE      hive      1\n",
            "4         resume      DL     keras      1\n",
            "5         resume     NLP  word2vec      1\n",
            "6         resume     NLP       lda      1\n",
            "0    vasu pundir      DE       aws      1\n",
            "      Candidate Name Subject    Keyword Count\n",
            "0              ritik     NaN        NaN   NaN\n",
            "0        robertsmith      DE     scala      1\n",
            "1        robertsmith      DE       aws      1\n",
            "0             resume      DE       sql      3\n",
            "1             resume      DE     scala      2\n",
            "2             resume      DE    hadoop      1\n",
            "3             resume      DE      hive      1\n",
            "4             resume      DL     keras      1\n",
            "5             resume     NLP  word2vec      1\n",
            "6             resume     NLP       lda      1\n",
            "0        vasu pundir      DE       aws      1\n",
            "0  divyanshuresume27     NaN        NaN   NaN\n",
            "       Candidate Name Subject    Keyword Count\n",
            "0               ritik     NaN        NaN   NaN\n",
            "0         robertsmith      DE     scala      1\n",
            "1         robertsmith      DE       aws      1\n",
            "0              resume      DE       sql      3\n",
            "1              resume      DE     scala      2\n",
            "2              resume      DE    hadoop      1\n",
            "3              resume      DE      hive      1\n",
            "4              resume      DL     keras      1\n",
            "5              resume     NLP  word2vec      1\n",
            "6              resume     NLP       lda      1\n",
            "0         vasu pundir      DE       aws      1\n",
            "0   divyanshuresume27     NaN        NaN   NaN\n",
            "0  paras-gupta-resume      DE       sql      4\n",
            "       Candidate Name Subject    Keyword Count\n",
            "0               ritik     NaN        NaN   NaN\n",
            "0         robertsmith      DE     scala      1\n",
            "1         robertsmith      DE       aws      1\n",
            "0              resume      DE       sql      3\n",
            "1              resume      DE     scala      2\n",
            "2              resume      DE    hadoop      1\n",
            "3              resume      DE      hive      1\n",
            "4              resume      DL     keras      1\n",
            "5              resume     NLP  word2vec      1\n",
            "6              resume     NLP       lda      1\n",
            "0         vasu pundir      DE       aws      1\n",
            "0   divyanshuresume27     NaN        NaN   NaN\n",
            "0  paras-gupta-resume      DE       sql      4\n",
            "0           mohdishaq  Python    django      4\n",
            "       Candidate Name Subject    Keyword Count\n",
            "0               ritik     NaN        NaN   NaN\n",
            "0         robertsmith      DE     scala      1\n",
            "1         robertsmith      DE       aws      1\n",
            "0              resume      DE       sql      3\n",
            "1              resume      DE     scala      2\n",
            "2              resume      DE    hadoop      1\n",
            "3              resume      DE      hive      1\n",
            "4              resume      DL     keras      1\n",
            "5              resume     NLP  word2vec      1\n",
            "6              resume     NLP       lda      1\n",
            "0         vasu pundir      DE       aws      1\n",
            "0   divyanshuresume27     NaN        NaN   NaN\n",
            "0  paras-gupta-resume      DE       sql      4\n",
            "0           mohdishaq  Python    django      4\n",
            "0        saurabhgupta      ML       svm      1\n",
            "1        saurabhgupta      DL    opencv      1\n",
            "       Candidate Name Subject    Keyword Count\n",
            "0               ritik     NaN        NaN   NaN\n",
            "0         robertsmith      DE     scala      1\n",
            "1         robertsmith      DE       aws      1\n",
            "0              resume      DE       sql      3\n",
            "1              resume      DE     scala      2\n",
            "2              resume      DE    hadoop      1\n",
            "3              resume      DE      hive      1\n",
            "4              resume      DL     keras      1\n",
            "5              resume     NLP  word2vec      1\n",
            "6              resume     NLP       lda      1\n",
            "0         vasu pundir      DE       aws      1\n",
            "0   divyanshuresume27     NaN        NaN   NaN\n",
            "0  paras-gupta-resume      DE       sql      4\n",
            "0           mohdishaq  Python    django      4\n",
            "0        saurabhgupta      ML       svm      1\n",
            "1        saurabhgupta      DL    opencv      1\n",
            "0             nishant  Python     flask      2\n",
            "1             nishant      DE       sql      1\n",
            "2             nishant      DE    hadoop      1\n"
          ],
          "name": "stdout"
        },
        {
          "output_type": "display_data",
          "data": {
            "image/png": "[encoded data removed]",
            "text/plain": [
              "<Figure size 1800x504 with 1 Axes>"
            ]
          },
          "metadata": {
            "tags": [],
            "needs_background": "light"
          }
        }
      ]
    }
  ]
}